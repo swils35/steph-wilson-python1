{
 "cells": [
  {
   "cell_type": "markdown",
   "metadata": {},
   "source": [
    "Stephanie Wilson \n",
    "<br/>4-17-19 \n",
    "<br/>Python 1 - DAT-119 - Spring 2019 \n",
    "<br/>Homework week 10\n",
    "\n",
    "This program should:\n",
    "    \n",
    "1. Turn each word of the first chapter of \"Pride and Prejudice\" into pig latin.\n",
    "    1. To turn a word into pig latin, you must remove the first letter of a word and then add it to the end of said word. Then add \"ay\" to the end of the word. "
   ]
  },
  {
   "cell_type": "code",
   "execution_count": 38,
   "metadata": {},
   "outputs": [],
   "source": [
    "import string\n",
    "\n",
    "pig_latin = []\n",
    "\n",
    "def main():\n",
    "    \n",
    "        \n",
    "    pig_latin()\n",
    "    \n",
    "    \n",
    "def pig_latin():    \n",
    "    \n",
    "    with open(\"prejudice.txt\", \"r\") as prejudice_file:\n",
    "        oink = prejudice_file.read()\n",
    "        \n",
    "    prejudice_string = oink.lower()\n",
    "    prejudice_string_c = prejudice_string.replace(\",\",\"\")\n",
    "    prejudice_string_p = prejudice_string_c.replace(\".\",\" & \") \n",
    "    prejudice_string_q = prejudice_string_p.replace(\"\\\"\",\"\")\n",
    "    prejudice_string_a = prejudice_string_q.replace(\"'\",\"\")\n",
    "    prejudice_string_f = prejudice_string_a.replace(\"?\",\"\")\n",
    "    prejudice_string_d = prejudice_string_f.replace(\"!\",\"\")\n",
    "    prejudice_string_e = prejudice_string_d.replace(\";\",\"\")\n",
    "         \n",
    "    \n",
    "    prejudice_list = prejudice_string_d.split()\n",
    "    \n",
    "    for i in range(len(prejudice_list)):\n",
    "            prejudice_list[i] = prejudice_list[i][1:] + prejudice_list[i][0] + \"ay\"\n",
    "                   \n",
    "    new_string = \" \".join(prejudice_list)\n",
    "    \n",
    "    prejudice_p = new_string.replace(\" &ay \", \". \")\n",
    "    \n",
    "    \n",
    "\n",
    "        \n",
    "    with open(\"prejudice_latin.txt\", \"w\") as file:\n",
    "        file.write(prejudice_p)\n",
    "    \n",
    "                  \n",
    "    \n",
    "main() "
   ]
  },
  {
   "cell_type": "code",
   "execution_count": null,
   "metadata": {},
   "outputs": [],
   "source": []
  }
 ],
 "metadata": {
  "kernelspec": {
   "display_name": "Python 3",
   "language": "python",
   "name": "python3"
  },
  "language_info": {
   "codemirror_mode": {
    "name": "ipython",
    "version": 3
   },
   "file_extension": ".py",
   "mimetype": "text/x-python",
   "name": "python",
   "nbconvert_exporter": "python",
   "pygments_lexer": "ipython3",
   "version": "3.7.1"
  }
 },
 "nbformat": 4,
 "nbformat_minor": 2
}
