{
 "cells": [
  {
   "cell_type": "markdown",
   "metadata": {},
   "source": [
    "Stephanie Wilson \n",
    "<br/>4-10-19 \n",
    "<br/>Python 1 - DAT-119 - Spring 2019 \n",
    "<br/>In class assignment week 9\n",
    "\n",
    "This program should:\n",
    "\n",
    "1. Read the prejudice.txt file.\n",
    "2. Count how many vowels are in the file.\n",
    "3. output the count."
   ]
  },
  {
   "cell_type": "code",
   "execution_count": 47,
   "metadata": {},
   "outputs": [
    {
     "name": "stdout",
     "output_type": "stream",
     "text": [
      "There are 243  of the letter a in the first chapter of 'Pride and Prejudice!'\n",
      "There are 407  of the letter e in the first chapter of 'Pride and Prejudice!'\n",
      "There are 247  of the letter i in the first chapter of 'Pride and Prejudice!'\n",
      "There are 280  of the letter o in the first chapter of 'Pride and Prejudice!'\n",
      "There are 124  of the letter u in the first chapter of 'Pride and Prejudice!'\n"
     ]
    }
   ],
   "source": [
    "import string\n",
    "\n",
    "def main():\n",
    "    \n",
    "    with open(\"prejudice.txt\", \"r\") as prejudice_file:\n",
    "        to_count = prejudice_file.read()\n",
    "        \n",
    "    prejudice_string = to_count.lower()\n",
    "    prejudice_string = to_count.replace(\" \", \"\")\n",
    "    prejudice_string = to_count.replace(\"\\n\",\"\")\n",
    "            \n",
    "    count_a = 0\n",
    "    count_e = 0\n",
    "    count_i = 0\n",
    "    count_o = 0\n",
    "    count_u = 0\n",
    "    \n",
    "    \n",
    "    for char in to_count:\n",
    "        \n",
    "        if char.lower() == \"a\":\n",
    "            count_a += 1\n",
    "                      \n",
    "        if char.lower() == \"e\":\n",
    "            count_e += 1\n",
    "            \n",
    "        if char.lower() == \"i\":\n",
    "            count_i += 1\n",
    "        \n",
    "        if char.lower() == \"o\":\n",
    "            count_o += 1\n",
    "            \n",
    "        if char.lower() == \"u\":\n",
    "            count_u += 1\n",
    "            \n",
    "        \n",
    "    print(\"There are\", count_a, \" of the letter a in the first chapter of 'Pride and Prejudice!'\")\n",
    "    print(\"There are\", count_e, \" of the letter e in the first chapter of 'Pride and Prejudice!'\")\n",
    "    print(\"There are\", count_i, \" of the letter i in the first chapter of 'Pride and Prejudice!'\")\n",
    "    print(\"There are\", count_o, \" of the letter o in the first chapter of 'Pride and Prejudice!'\")\n",
    "    print(\"There are\", count_u, \" of the letter u in the first chapter of 'Pride and Prejudice!'\")\n",
    "    \n",
    "main()"
   ]
  },
  {
   "cell_type": "code",
   "execution_count": null,
   "metadata": {},
   "outputs": [],
   "source": []
  }
 ],
 "metadata": {
  "kernelspec": {
   "display_name": "Python 3",
   "language": "python",
   "name": "python3"
  },
  "language_info": {
   "codemirror_mode": {
    "name": "ipython",
    "version": 3
   },
   "file_extension": ".py",
   "mimetype": "text/x-python",
   "name": "python",
   "nbconvert_exporter": "python",
   "pygments_lexer": "ipython3",
   "version": "3.7.1"
  }
 },
 "nbformat": 4,
 "nbformat_minor": 2
}
