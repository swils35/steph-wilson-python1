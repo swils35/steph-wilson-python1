{
 "cells": [
  {
   "cell_type": "markdown",
   "metadata": {},
   "source": [
    "Stephanie Wilson \n",
    "<br/>4-29-19 \n",
    "<br/>Python 1 - DAT-119 - Spring 2019 \n",
    "<br/>Homework assignment week 11\n",
    "\n",
    "This program should:\n",
    "\n",
    "1. Ask the user for input.\n",
    "2. Use a dictionary to summarize the number of occurrances of each letter.\n",
    "3. Display a 2 columned table with each letter and its count."
   ]
  },
  {
   "cell_type": "code",
   "execution_count": 33,
   "metadata": {},
   "outputs": [
    {
     "name": "stdout",
     "output_type": "stream",
     "text": [
      "Give me a sentence and I'll count each letter. A quick brown fox jumps over the lazy dog\n",
      "a: 2\n",
      "b: 1\n",
      "c: 1\n",
      "d: 1\n",
      "e: 2\n",
      "f: 1\n",
      "g: 1\n",
      "h: 1\n",
      "i: 1\n",
      "j: 1\n",
      "k: 1\n",
      "l: 1\n",
      "m: 1\n",
      "n: 1\n",
      "o: 4\n",
      "p: 1\n",
      "q: 1\n",
      "r: 2\n",
      "s: 1\n",
      "t: 1\n",
      "u: 2\n",
      "v: 1\n",
      "w: 1\n",
      "x: 1\n",
      "y: 1\n",
      "z: 1\n"
     ]
    }
   ],
   "source": [
    "import string\n",
    "\n",
    "def main():\n",
    "    user_input = input(str(\"Give me a sentence and I'll count each letter. \"))\n",
    "\n",
    "    user_input = user_input.replace(\" \", \"\")\n",
    "    user_input = user_input.replace(\"!\", \"\")\n",
    "    user_input = user_input.replace(\".\", \"\")\n",
    "    user_input = user_input.replace(\",\", \"\")\n",
    "    user_input = user_input.replace(\";\", \"\")\n",
    "    user_input = user_input.replace(\"?\", \"\")\n",
    "    user_input = user_input.replace(\"&\", \"\")\n",
    "    user_input = user_input.replace(\"\\'\",\"\")\n",
    "    new_string = user_input.lower()\n",
    "            \n",
    "    alphabet = {}\n",
    "\n",
    "    for letter in new_string:\n",
    "        if letter in alphabet:\n",
    "            alphabet[letter] += 1        \n",
    "        else:\n",
    "            alphabet[letter] = 1\n",
    "            \n",
    "    \n",
    "    keys = list(alphabet.keys())\n",
    "    \n",
    "    keys.sort()\n",
    "\n",
    "    for key in keys:           \n",
    "        print(key + \": \" + str(alphabet[key]), sep=\"\")\n",
    "              \n",
    "              \n",
    "        \n",
    "main()"
   ]
  },
  {
   "cell_type": "code",
   "execution_count": null,
   "metadata": {},
   "outputs": [],
   "source": []
  },
  {
   "cell_type": "code",
   "execution_count": null,
   "metadata": {},
   "outputs": [],
   "source": []
  }
 ],
 "metadata": {
  "kernelspec": {
   "display_name": "Python 3",
   "language": "python",
   "name": "python3"
  },
  "language_info": {
   "codemirror_mode": {
    "name": "ipython",
    "version": 3
   },
   "file_extension": ".py",
   "mimetype": "text/x-python",
   "name": "python",
   "nbconvert_exporter": "python",
   "pygments_lexer": "ipython3",
   "version": "3.7.1"
  }
 },
 "nbformat": 4,
 "nbformat_minor": 2
}
