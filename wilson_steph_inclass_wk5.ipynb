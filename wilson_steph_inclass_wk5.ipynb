{
 "cells": [
  {
   "cell_type": "markdown",
   "metadata": {},
   "source": [
    "Stephanie Wilson \n",
    "<br/>3-6-19 \n",
    "<br/>Python 1 - DAT-119 - Spring 2019 \n",
    "<br/>In-class assignment week 3\n",
    "\n",
    "UPDATED: 3-11-19\n",
    "\n",
    "The program should:\n",
    "\n",
    "1. Ask the user if they have a student's grade to input.\n",
    "2. If so, ask for the grade.\n",
    "    1. Accumulate the grades.\n",
    "    2. Calculate the average.\n",
    "3. If there are no more grades, print the average."
   ]
  },
  {
   "cell_type": "code",
   "execution_count": 37,
   "metadata": {},
   "outputs": [
    {
     "name": "stdout",
     "output_type": "stream",
     "text": [
      "Please enter a student's grade or press '0'for the average: 98\n",
      "Please enter another grade if you're not finished: 95\n",
      "Please enter another grade if you're not finished: 90\n",
      "Please enter another grade if you're not finished: 0\n",
      "The average grade is:  94.33\n"
     ]
    }
   ],
   "source": [
    "# this program averages test scores. It asks the user for the\n",
    "# number of students and the number of test scores per student.\n",
    "\n",
    "\n",
    "# initialize variable to accumulate student grades\n",
    "total = 0.0\n",
    "\n",
    "# initialize variable to count how many grades are entered\n",
    "count = 0.0\n",
    "\n",
    "grade = (float(input(\"Please enter a student's grade or press '0'\" +\n",
    "                    \"for the average: \")))\n",
    "# loop for grade input\n",
    "while(grade != 0):\n",
    "        \n",
    "    # validate the grade\n",
    "    while grade < 0 or grade > 100:\n",
    "        print(\"Error! That is not a valid\" +\n",
    "             \" grade.\")\n",
    "        grade = (float(input(\"Please enter a valid grade: \")))\n",
    "        \n",
    "    #How many grades have been entered?\n",
    "    count += 1\n",
    "    \n",
    "    # calculate the average\n",
    "    total += grade\n",
    "    average = total / count\n",
    "    \n",
    "    grade = (float(input(\"Please enter another grade if you're not finished: \")))\n",
    "\n",
    "    # display the average\n",
    "print(\"The average grade is: \", format(average, \".2f\"))"
   ]
  },
  {
   "cell_type": "code",
   "execution_count": null,
   "metadata": {},
   "outputs": [],
   "source": []
  }
 ],
 "metadata": {
  "kernelspec": {
   "display_name": "Python 3",
   "language": "python",
   "name": "python3"
  },
  "language_info": {
   "codemirror_mode": {
    "name": "ipython",
    "version": 3
   },
   "file_extension": ".py",
   "mimetype": "text/x-python",
   "name": "python",
   "nbconvert_exporter": "python",
   "pygments_lexer": "ipython3",
   "version": "3.7.1"
  }
 },
 "nbformat": 4,
 "nbformat_minor": 2
}
