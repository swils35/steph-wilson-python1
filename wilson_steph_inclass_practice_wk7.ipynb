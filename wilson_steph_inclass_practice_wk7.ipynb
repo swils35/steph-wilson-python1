{
 "cells": [
  {
   "cell_type": "markdown",
   "metadata": {},
   "source": [
    "Stephanie Wilson \n",
    "<br/>3-25-19 \n",
    "<br/>Python 1 - DAT-119 - Spring 2019 \n",
    "<br/>In-class practice week 7"
   ]
  },
  {
   "cell_type": "code",
   "execution_count": 24,
   "metadata": {},
   "outputs": [
    {
     "name": "stdout",
     "output_type": "stream",
     "text": [
      "Elephants\n",
      "Orcas\n",
      "Dolphins\n",
      "Chimps\n",
      "Buddy\n"
     ]
    }
   ],
   "source": [
    "animals = [\"Elephants\", \"Orcas\", \"Dolphins\", \"Chimps\", \"Buddy\"]\n",
    "for a in animals:\n",
    "    print(a)"
   ]
  },
  {
   "cell_type": "code",
   "execution_count": 55,
   "metadata": {},
   "outputs": [
    {
     "name": "stdout",
     "output_type": "stream",
     "text": [
      "Please enter a number between 1 and 5: 1\n",
      "Elephants\n"
     ]
    }
   ],
   "source": [
    "animals = [\"Elephants\", \"Orcas\", \"Dolphins\", \"Chimps\", \"Buddy\"]\n",
    "\n",
    "number = int(input(\"Please enter a number between 1 and 5: \"))\n",
    "index = 0\n",
    "\n",
    "if index < len(animals):\n",
    "    index += 1\n",
    "    print(animals[number - 1])"
   ]
  },
  {
   "cell_type": "code",
   "execution_count": 59,
   "metadata": {},
   "outputs": [
    {
     "name": "stdout",
     "output_type": "stream",
     "text": [
      "The first three animals in the list are:  ['Elephants', 'Orcas', 'Dolphins']\n"
     ]
    }
   ],
   "source": [
    "animals = [\"Elephants\", \"Orcas\", \"Dolphins\", \"Chimps\", \"Buddy\"]\n",
    "print(\"The first three animals in the list are: \", animals[:3])"
   ]
  },
  {
   "cell_type": "code",
   "execution_count": 60,
   "metadata": {},
   "outputs": [
    {
     "name": "stdout",
     "output_type": "stream",
     "text": [
      "The last three animals in the list are:  ['Dolphins', 'Chimps', 'Buddy']\n"
     ]
    }
   ],
   "source": [
    "animals = [\"Elephants\", \"Orcas\", \"Dolphins\", \"Chimps\", \"Buddy\"]\n",
    "print(\"The last three animals in the list are: \", animals[2:])"
   ]
  },
  {
   "cell_type": "code",
   "execution_count": 67,
   "metadata": {},
   "outputs": [
    {
     "name": "stdout",
     "output_type": "stream",
     "text": [
      "['Elephants', 'Orcas', 'Dolphins', 'Chimps', 'Buddy', 'Cats I quess']\n",
      "\n",
      "['Buddy', 'Cats I quess', 'Chimps', 'Dolphins', 'Elephants', 'Orcas']\n",
      "What is your least favorite animal? Orcas\n",
      "\n",
      "['Buddy', 'Cats I quess', 'Chimps', 'Dolphins', 'Elephants']\n"
     ]
    }
   ],
   "source": [
    "animals = [\"Elephants\", \"Orcas\", \"Dolphins\", \"Chimps\", \"Buddy\"]\n",
    "animals.append(\"Cats I quess\")\n",
    "print(animals)\n",
    "print()\n",
    "\n",
    "animals.sort()\n",
    "print(animals, end=\"\")\n",
    "print()\n",
    "\n",
    "least_fav = input(\"What is your least favorite animal? \")\n",
    "print()\n",
    "\n",
    "animals.remove(least_fav)\n",
    "print(animals)"
   ]
  },
  {
   "cell_type": "code",
   "execution_count": null,
   "metadata": {},
   "outputs": [],
   "source": []
  }
 ],
 "metadata": {
  "kernelspec": {
   "display_name": "Python 3",
   "language": "python",
   "name": "python3"
  },
  "language_info": {
   "codemirror_mode": {
    "name": "ipython",
    "version": 3
   },
   "file_extension": ".py",
   "mimetype": "text/x-python",
   "name": "python",
   "nbconvert_exporter": "python",
   "pygments_lexer": "ipython3",
   "version": "3.7.1"
  }
 },
 "nbformat": 4,
 "nbformat_minor": 2
}
