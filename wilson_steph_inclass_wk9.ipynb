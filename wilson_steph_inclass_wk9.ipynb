{
 "cells": [
  {
   "cell_type": "markdown",
   "metadata": {},
   "source": [
    "Stephanie Wilson \n",
    "<br/>4-3-19 \n",
    "<br/>Python 1 - DAT-119 - Spring 2019 \n",
    "<br/>In-class assignment 9\n",
    "\n",
    "The program should:\n",
    "\n",
    "1. Read the data from the steps.txt file\n",
    "2. create an output file (step_average.txt)\n",
    "3. In the output file, create a table with each month and how many steps were taken in that month. "
   ]
  },
  {
   "cell_type": "code",
   "execution_count": null,
   "metadata": {},
   "outputs": [],
   "source": [
    "with open(\"steps.txt\", \"r\") as steps_file_object\n",
    "    \n",
    "    steps_in_a_year = steps_file_object.readlines()\n",
    "    \n",
    "with open(\"step_average\", \"w\") as output_average_object\n",
    "\n",
    "    jan = 31\n",
    "    feb = 28\n",
    "    mar = 31\n",
    "    apr = 30\n",
    "    may = 31\n",
    "    sep = 30\n",
    "    octo = 31\n",
    "    nov = 30\n",
    "    dec = 31\n",
    "    \n",
    "    # accumulator\n",
    "    total = 0.0 \n",
    "        \n",
    "    # count\n",
    "    count = 0.0\n",
    "    \n",
    "    print(\"Month \\t Total Steps Taken\")\n",
    "    print(\"--------------------------\")\n",
    "    \n",
    "    for line in range(len(steps_in_a_year)):\n",
    "               \n",
    "        # convert a line from a string to a float\n",
    "        steps = float(line)\n",
    "        \n",
    "        count +=1\n",
    "        \n",
    "        while index <= jan: # nope! something about where the cursor is? readline? \n",
    "            print(\"January\" + \"\\t\" + total += steps)\n",
    "            \n",
    "        while index \n",
    "            \n",
    "    "
   ]
  }
 ],
 "metadata": {
  "kernelspec": {
   "display_name": "Python 3",
   "language": "python",
   "name": "python3"
  },
  "language_info": {
   "codemirror_mode": {
    "name": "ipython",
    "version": 3
   },
   "file_extension": ".py",
   "mimetype": "text/x-python",
   "name": "python",
   "nbconvert_exporter": "python",
   "pygments_lexer": "ipython3",
   "version": "3.7.1"
  }
 },
 "nbformat": 4,
 "nbformat_minor": 2
}
