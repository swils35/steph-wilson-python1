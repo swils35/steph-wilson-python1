{
 "cells": [
  {
   "cell_type": "markdown",
   "metadata": {},
   "source": [
    "Stephanie Wilson\n",
    "<br/>2-27-19\n",
    "<br/>Python 1 - DAT-119 - Spring 2019\n",
    "<br/>In-class practice week 4\n",
    "\n",
    "Practice 1 Plan\n",
    "\n",
    "1. Ask the user to input a number 1-7.\n",
    "2. if-elif-else Decision structure assigning each number to a day of the week.\n",
    "    1. 1 is Monday, 2 is Tuesday, 3 is Wednesday\n",
    "3. Output which day corresponds to the given number."
   ]
  },
  {
   "cell_type": "code",
   "execution_count": 1,
   "metadata": {},
   "outputs": [
    {
     "name": "stdout",
     "output_type": "stream",
     "text": [
      "Please enter a number between 1 and 7: 5\n",
      "It is Friday.\n"
     ]
    }
   ],
   "source": [
    "number = int(input(\"Please enter a number between 1 and 7: \"))\n",
    "\n",
    "if number == 1:\n",
    "    print(\"It is Monday.\")\n",
    "elif number == 2:\n",
    "    print(\"It is Tuesday.\")\n",
    "elif number == 3:\n",
    "    print(\"It is Wednesday.\")  \n",
    "elif number == 4:\n",
    "    print(\"It is Thursday.\")\n",
    "elif number == 5:\n",
    "    print(\"It is Friday.\")\n",
    "elif number == 6:\n",
    "    print(\"It is Saturday.\")\n",
    "elif number == 7:\n",
    "    print(\"It is Sunday.\")\n",
    "else:\n",
    "    print(\"That is not a valid number.\")"
   ]
  },
  {
   "cell_type": "markdown",
   "metadata": {},
   "source": [
    "Practice 2 Plan\n",
    "\n",
    "The following program should tell the age group of the child that the user inputs.\n",
    "\n",
    "1. Ask the user for the person's age. \n",
    "2. if-elif decision structure to assign the equivalent age group.\n",
    "    1. up to 1 = infant, 1-13 = child, 13 - 20 = teenager, etc. \n",
    "3. Output the correct designated age group."
   ]
  },
  {
   "cell_type": "code",
   "execution_count": 17,
   "metadata": {},
   "outputs": [
    {
     "name": "stdout",
     "output_type": "stream",
     "text": [
      "What is the person's age? 5\n",
      "This person is a child.\n"
     ]
    }
   ],
   "source": [
    "age = float(input(\"What is the person's age? \"))\n",
    "\n",
    "if age > 0 and age <= 1:\n",
    "    print(\"This person is an infant.\")\n",
    "elif age > 1 and age < 13:\n",
    "    print(\"This person is a child.\")\n",
    "elif age >= 13 and age < 20:\n",
    "    print(\"This person is a teenager.\")\n",
    "elif age >= 20:\n",
    "    print(\"This person is an adult.\")\n",
    "else:\n",
    "    print(\"This person is dead.\")"
   ]
  },
  {
   "cell_type": "code",
   "execution_count": null,
   "metadata": {},
   "outputs": [],
   "source": []
  }
 ],
 "metadata": {
  "kernelspec": {
   "display_name": "Python 3",
   "language": "python",
   "name": "python3"
  },
  "language_info": {
   "codemirror_mode": {
    "name": "ipython",
    "version": 3
   },
   "file_extension": ".py",
   "mimetype": "text/x-python",
   "name": "python",
   "nbconvert_exporter": "python",
   "pygments_lexer": "ipython3",
   "version": "3.7.1"
  }
 },
 "nbformat": 4,
 "nbformat_minor": 2
}
