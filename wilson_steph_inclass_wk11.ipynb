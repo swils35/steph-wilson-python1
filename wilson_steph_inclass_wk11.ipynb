{
 "cells": [
  {
   "cell_type": "markdown",
   "metadata": {},
   "source": [
    "Stephanie Wilson \n",
    "<br/>4-24-19 \n",
    "<br/>Python 1 - DAT-119 - Spring 2019 \n",
    "<br/>In class assignment week 11\n",
    "\n",
    "This program should:\n",
    "\n",
    "1. Have a dictionary of US states with the state as the key and the capital city as the value.\n",
    "2. Quiz the user by giving a random state name and asking them for the capital city.\n",
    "3. Keep a count of how many the user got right/ wrong. \n",
    "4. Ask them if they wish to play again."
   ]
  },
  {
   "cell_type": "code",
   "execution_count": null,
   "metadata": {},
   "outputs": [],
   "source": [
    "import random\n",
    "\n",
    "def main():  \n",
    "    print(\"Want to take a quiz?)\n",
    "    print(\"I'm going to give you a state and you're going to tell me its capitol.\")\n",
    "    \n",
    "    again = True\n",
    "    \n",
    "    while again == True:\n",
    "        again = quiz()\n",
    "            \n",
    "    \n",
    "    \n",
    "def quiz():\n",
    "    states = {\"alabama\": \"montgomery\", \"alaska\": \"juneau\", \"arizona\": \"phoenix\", \"arkansas\": \"little rock\",\n",
    "             \"california\": \"sacramento\", \"colorado\": \"denver\", \"connecticut\": \"hartford\", \"delaware\": \"dover\",\n",
    "             \"florida\": \"tallahassee\", \"georgia\": \"atlanta\", \"hawaii\": \"honolulu\", \"idaho\": \"boise\", \n",
    "              \"illinois\": \"springfield\", \"indiana\": \"indianapolis\", \"iowa\": \"des moines\", \"kansas\": \"topeka\",\n",
    "             \"kentucky\": \"frankfurt\", \"Lousiana\": \"baton rouge\", \"maine\": \"augusta\", \"maryland\": \"annapolis\", \n",
    "             \"massachusettes\": \"boston\", \"michigan\": \"lansing\", \"minnesota\": \"saint paul\", \"mississippi\": \"jackson\",\n",
    "             \"missouri\": \"jefferson city\", \"montana\": \"helena\", \"nebraska\": \"lincoln\", \"nevada\": \"carson city\",\n",
    "             \"new hampshire\": \"concord\", \"new jersey\": \"trenton\", \"new mexico\": \"santa fe\", \"new york\": \"albany\",\n",
    "             \"north carolina\": \"raleigh\", \"north dakota\": \"bismark\", \"ohio\": \"columbus\", \"oklahoma\": \"oklahoma city\",\n",
    "             \"oregon\": \"salem\", \"pennsylvania\": \"harrisburg\", \"rhode island\": \"providence\", \"south carolina\": \"columbia\",\n",
    "             \"south dakota\": \"pierre\", \"tennessee\": \"nashville\", \"texas\": \"austin\", \"utah\": \"salt lake city\",\n",
    "             \"vermont\": \"montpelier\", \"virginia\": \"richmond\", \"washington\": \"olympia\", \"west virginia\": \"charleston\",\n",
    "             \"wisconsin\": \"madison\", \"wyoming\": \"cheyenne\"\n",
    "             }\n",
    " \n",
    "    list_states = list(states)\n",
    "    random_state = random.sample(list_states, 1)\n",
    "\n",
    "  \n",
    "    count = 0 \n",
    "          \n",
    "    answer = input(\"What is the capitol of\" + random_state + \"?\")\n",
    "          \n",
    "    for state, capitol in list_states:\n",
    "          \n",
    "          \n",
    "    # or not-so-random\n",
    "    # for key in states:\n",
    "          #answer = input(\"What is the capitol city of\" + key + \"?\")\n",
    "          \n",
    "    \n",
    "    \n",
    "    \n",
    "\n",
    "main()"
   ]
  }
 ],
 "metadata": {
  "kernelspec": {
   "display_name": "Python 3",
   "language": "python",
   "name": "python3"
  },
  "language_info": {
   "codemirror_mode": {
    "name": "ipython",
    "version": 3
   },
   "file_extension": ".py",
   "mimetype": "text/x-python",
   "name": "python",
   "nbconvert_exporter": "python",
   "pygments_lexer": "ipython3",
   "version": "3.7.1"
  }
 },
 "nbformat": 4,
 "nbformat_minor": 2
}
