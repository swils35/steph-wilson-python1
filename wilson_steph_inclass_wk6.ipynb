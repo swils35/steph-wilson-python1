{
 "cells": [
  {
   "cell_type": "markdown",
   "metadata": {},
   "source": [
    "Stephanie Wilson \n",
    "<br/>3-21-19 \n",
    "<br/>Python 1 - DAT-119 - Spring 2019 \n",
    "<br/>In-class assignment week 6\n",
    "\n",
    "The program should:\n",
    "\n",
    "1. Generate a random number between 0 and 2. Do NOT display the number.\n",
    "    1. 0 = rock; 1 = paper; 2 = scissors\n",
    "2. The user inputs their choice (rock, paper, or scissors).\n",
    "3. The computer's choice is displayed.\n",
    "4. A winner is selected based on the following:\n",
    "    1. If one player chooses rock, and the other chooses scissors, rock wins (rock smashes scissors).\n",
    "    2. If one player chooses scissors, and the other chooses paper, scissors win (scissors cut paper).\n",
    "    3. If one player chooses paper, and the other chooses rock, paper wins (paper wraps around rock).\n",
    "    4. If both players make the same choice, the game must be played again to determine the winner.\n"
   ]
  },
  {
   "cell_type": "code",
   "execution_count": 69,
   "metadata": {},
   "outputs": [
    {
     "name": "stdout",
     "output_type": "stream",
     "text": [
      "Enter your choice (Rock, Paper, or Scissors): Paper\n",
      "You lose! Scissors cut paper.\n"
     ]
    }
   ],
   "source": [
    "import random\n",
    "\n",
    "# list of possible values\n",
    "play = (\"Rock\", \"Paper\", \"Scissors\")\n",
    "\n",
    "def main():\n",
    "    \n",
    "# set user to false\n",
    "    user = False\n",
    "    \n",
    "# generate computer's \"choices\"\n",
    "    computer = play[random.randint(0, 2)]\n",
    "    \n",
    "    while user == False:\n",
    "    # set user to true\n",
    "        user = input(\"Enter your choice (Rock, Paper, or Scissors): \")\n",
    "        if user == computer:\n",
    "            print(\"It's a tie!\")\n",
    "        \n",
    "        elif user == \"Rock\":\n",
    "            if computer == \"Paper\":\n",
    "                print(\"You lose! Paper covers rock.\")\n",
    "            else:\n",
    "                print(\"You win! Rock smashes scissors.\")\n",
    "                \n",
    "        elif user == \"Paper\":\n",
    "            if computer == \"Rock\":\n",
    "                print(\"You win! Paper covers rock.\")\n",
    "            else:\n",
    "                print(\"You lose! Scissors cut paper.\")\n",
    "                \n",
    "        elif user == \"Scissors\":\n",
    "            if computer == \"Rock\":\n",
    "                print(\"You lose! Rock smashes scissors.\")\n",
    "            else:\n",
    "                print(\"You win! Scissors cut paper.\")\n",
    "                      \n",
    "        else:\n",
    "            print(\"Sorry, that's not valid. Check your spelling.\")\n",
    "                 \n",
    "    \n",
    "main()"
   ]
  }
 ],
 "metadata": {
  "kernelspec": {
   "display_name": "Python 3",
   "language": "python",
   "name": "python3"
  },
  "language_info": {
   "codemirror_mode": {
    "name": "ipython",
    "version": 3
   },
   "file_extension": ".py",
   "mimetype": "text/x-python",
   "name": "python",
   "nbconvert_exporter": "python",
   "pygments_lexer": "ipython3",
   "version": "3.7.1"
  }
 },
 "nbformat": 4,
 "nbformat_minor": 2
}
