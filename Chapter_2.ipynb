{
 "cells": [
  {
   "cell_type": "markdown",
   "metadata": {},
   "source": [
    "# Notes\n",
    "\n",
    "Python is extremely case sensitive. Data and data are not the same thing. "
   ]
  },
  {
   "cell_type": "code",
   "execution_count": 5,
   "metadata": {},
   "outputs": [
    {
     "name": "stdout",
     "output_type": "stream",
     "text": [
      "Stephanie Wilson\n",
      "3555 California Ave #101\n",
      "Pittsburgh, PA 15212\n"
     ]
    }
   ],
   "source": [
    "print (\"Stephanie Wilson\")\n",
    "print (\"3555 California Ave #101\")\n",
    "print (\"Pittsburgh, PA 15212\")"
   ]
  },
  {
   "cell_type": "code",
   "execution_count": 6,
   "metadata": {},
   "outputs": [
    {
     "name": "stdout",
     "output_type": "stream",
     "text": [
      "Don't fear!\n",
      "I'm here!\n"
     ]
    }
   ],
   "source": [
    "print (\"Don't fear!\")\n",
    "print (\"I'm here!\")"
   ]
  },
  {
   "cell_type": "code",
   "execution_count": 7,
   "metadata": {},
   "outputs": [
    {
     "name": "stdout",
     "output_type": "stream",
     "text": [
      "Your assignment is to read \"Hamlet\" by tomorrow.\n"
     ]
    }
   ],
   "source": [
    "print ('Your assignment is to read \"Hamlet\" by tomorrow.')"
   ]
  },
  {
   "cell_type": "code",
   "execution_count": 8,
   "metadata": {},
   "outputs": [
    {
     "name": "stdout",
     "output_type": "stream",
     "text": [
      "one\n",
      "two\n",
      "three\n"
     ]
    }
   ],
   "source": [
    "print (\"\"\"one\n",
    "two\n",
    "three\"\"\")"
   ]
  },
  {
   "cell_type": "code",
   "execution_count": 9,
   "metadata": {},
   "outputs": [
    {
     "name": "stdout",
     "output_type": "stream",
     "text": [
      "'what happens when I do this?'\n"
     ]
    }
   ],
   "source": [
    "print (\"'what happens when I do this?'\")"
   ]
  },
  {
   "cell_type": "code",
   "execution_count": 10,
   "metadata": {},
   "outputs": [
    {
     "name": "stdout",
     "output_type": "stream",
     "text": [
      "\"What happens when I do this?\"\n"
     ]
    }
   ],
   "source": [
    "print ('\"What happens when I do this?\"')"
   ]
  },
  {
   "cell_type": "code",
   "execution_count": 11,
   "metadata": {},
   "outputs": [
    {
     "name": "stdout",
     "output_type": "stream",
     "text": [
      "3555 California Ave #101\n"
     ]
    }
   ],
   "source": [
    "# it's my life\n",
    "# and it's now or never\n",
    "# I ain't gonna live forever (at)\n",
    "print (\"3555 California Ave #101\")"
   ]
  },
  {
   "cell_type": "code",
   "execution_count": 1,
   "metadata": {},
   "outputs": [
    {
     "name": "stdout",
     "output_type": "stream",
     "text": [
      "I am staying in room number\n",
      "503\n"
     ]
    }
   ],
   "source": [
    "# This program demonstrates a variable.\n",
    "room = 503\n",
    "print ('I am staying in room number')\n",
    "print (room)"
   ]
  },
  {
   "cell_type": "code",
   "execution_count": 2,
   "metadata": {},
   "outputs": [
    {
     "name": "stdout",
     "output_type": "stream",
     "text": [
      "The top speed is\n",
      "160\n",
      "The distance traveled is\n",
      "300\n"
     ]
    }
   ],
   "source": [
    "# Create two variables: top_speed and distance\n",
    "top_speed = 160 \n",
    "distance = 300\n",
    "\n",
    "#display values referenced by variables\n",
    "print ('The top speed is')\n",
    "print (top_speed)\n",
    "\n",
    "print ('The distance traveled is')\n",
    "print (distance)"
   ]
  },
  {
   "cell_type": "code",
   "execution_count": 8,
   "metadata": {},
   "outputs": [
    {
     "name": "stdout",
     "output_type": "stream",
     "text": [
      "I am staying in room 503\n"
     ]
    }
   ],
   "source": [
    "# display multiple items with the print function\n",
    "room = 503\n",
    "print ('I am staying in room' , room)"
   ]
  },
  {
   "cell_type": "code",
   "execution_count": 5,
   "metadata": {},
   "outputs": [
    {
     "name": "stdout",
     "output_type": "stream",
     "text": [
      "I have 2.75 in my account.\n",
      "But now I have 99.95 in my account!\n"
     ]
    }
   ],
   "source": [
    "# demonstrating variable reassignment\n",
    "# assign a value to the dollars variable\n",
    "dollars = 2.75\n",
    "print ('I have', dollars, 'in my account.')\n",
    "\n",
    "#reassign dollars so it references a diff value\n",
    "dollars = 99.95\n",
    "print('But now I have', dollars, 'in my account!')"
   ]
  },
  {
   "cell_type": "code",
   "execution_count": 12,
   "metadata": {},
   "outputs": [
    {
     "name": "stdout",
     "output_type": "stream",
     "text": [
      "Kathryn Marino\n"
     ]
    }
   ],
   "source": [
    "#create variables to reference two strings.\n",
    "first_name = 'Kathryn'\n",
    "last_name = 'Marino'\n",
    "\n",
    "#Display the values referenced by the variables\n",
    "print (first_name, last_name)"
   ]
  },
  {
   "cell_type": "code",
   "execution_count": 15,
   "metadata": {},
   "outputs": [
    {
     "name": "stdout",
     "output_type": "stream",
     "text": [
      "Enter your first name: Stephanie\n",
      "Enter your last name: Wilson\n",
      "Hello Stephanie Wilson\n"
     ]
    }
   ],
   "source": [
    "#get the user's first name\n",
    "first_name = input ('Enter your first name: ')\n",
    "\n",
    "#Get the user's last name\n",
    "last_name = input ('Enter your last name: ')\n",
    "\n",
    "#Print a greeting\n",
    "print ('Hello', first_name, last_name)"
   ]
  },
  {
   "cell_type": "code",
   "execution_count": 17,
   "metadata": {},
   "outputs": [
    {
     "name": "stdout",
     "output_type": "stream",
     "text": [
      "What is your name? Steph\n",
      "What is your age? 28\n",
      "What is your income? 46000\n",
      "Here is the data you entered:\n",
      "Name:  Steph\n",
      "Age: 28\n",
      "Income: 46000.0\n"
     ]
    }
   ],
   "source": [
    "# input and nested function\n",
    "\n",
    "# get the user's name, age, and income\n",
    "name = input ('What is your name? ')\n",
    "age = int(input('What is your age? '))\n",
    "income = float(input('What is your income? '))\n",
    "\n",
    "# display the data\n",
    "print ('Here is the data you entered:')\n",
    "print ('Name: ', name)\n",
    "print ('Age:', age)\n",
    "print ('Income:', income)"
   ]
  },
  {
   "cell_type": "code",
   "execution_count": 1,
   "metadata": {},
   "outputs": [
    {
     "name": "stdout",
     "output_type": "stream",
     "text": [
      "Your pay is 3700.0\n"
     ]
    }
   ],
   "source": [
    "# assign a value to salary variable\n",
    "salary = 2500.0\n",
    "\n",
    "# assign a value to the bonus variable\n",
    "bonus = 1200.0\n",
    "\n",
    "# calculate the total pay\n",
    "pay = salary + bonus\n",
    "\n",
    "# display the pay\n",
    "print('Your pay is', pay)"
   ]
  },
  {
   "cell_type": "code",
   "execution_count": 2,
   "metadata": {},
   "outputs": [
    {
     "name": "stdout",
     "output_type": "stream",
     "text": [
      "Enter the item's original price: 100\n",
      "The sale price is 80.0\n"
     ]
    }
   ],
   "source": [
    "# Calculate a percentage\n",
    "# getting an item's original price and calculates its sale price\n",
    "# with a 20% discount\n",
    "\n",
    "# get original price\n",
    "original_price = float (input (\"Enter the item's original price: \"))\n",
    "\n",
    "# calculate the amount of the discount\n",
    "discount = original_price * 0.2\n",
    "\n",
    "# calculate the sale price\n",
    "sale_price = original_price - discount\n",
    "\n",
    "# display the sale price\n",
    "print ('The sale price is', sale_price)"
   ]
  },
  {
   "cell_type": "code",
   "execution_count": 3,
   "metadata": {},
   "outputs": [
    {
     "name": "stdout",
     "output_type": "stream",
     "text": [
      "Enter the first test score: 95\n",
      "Enter the second test score: 82\n",
      "Enter the third test score: 75\n",
      "The average score is 84.0\n"
     ]
    }
   ],
   "source": [
    "# calculating an everage\n",
    "\n",
    "# get three test scores and assign them variables\n",
    "test1 = float (input('Enter the first test score: '))\n",
    "test2 = float (input('Enter the second test score: '))\n",
    "test3 = float (input('Enter the third test score: '))\n",
    "\n",
    "#calculate the average of the three test scores and assign average variable\n",
    "average = (test1 + test2 + test3) / 3.0\n",
    "\n",
    "# display average\n",
    "print ('The average score is', average)"
   ]
  },
  {
   "cell_type": "code",
   "execution_count": 5,
   "metadata": {},
   "outputs": [
    {
     "name": "stdout",
     "output_type": "stream",
     "text": [
      "16\n",
      "125\n",
      "1024\n"
     ]
    }
   ],
   "source": [
    "# exponent operator\n",
    "\n",
    "print (4**2)\n",
    "print (5**3)\n",
    "print (2**10)"
   ]
  },
  {
   "cell_type": "code",
   "execution_count": 6,
   "metadata": {},
   "outputs": [
    {
     "name": "stdout",
     "output_type": "stream",
     "text": [
      "Enter the number of seconds: 11730\n",
      "Here is the time in hours, minutes, and seconds:\n",
      "Hours:  3.0\n",
      "Minutes:  15.0\n",
      "Seconds:  30.0\n"
     ]
    }
   ],
   "source": [
    "# remainder operator\n",
    "\n",
    "# get a number of seconds from user\n",
    "total_seconds = float(input('Enter the number of seconds: '))\n",
    "\n",
    "# get the number of hours\n",
    "hours = total_seconds // 3600\n",
    "\n",
    "# get the number of remaining minutes\n",
    "minutes = (total_seconds // 60) % 60\n",
    "\n",
    "# get the number of remaining seconds\n",
    "seconds = total_seconds % 60\n",
    "\n",
    "# display results\n",
    "print('Here is the time in hours, minutes, and seconds:')\n",
    "print('Hours: ', hours)\n",
    "print('Minutes: ', minutes)\n",
    "print('Seconds: ', seconds)"
   ]
  },
  {
   "cell_type": "code",
   "execution_count": 7,
   "metadata": {},
   "outputs": [
    {
     "name": "stdout",
     "output_type": "stream",
     "text": [
      "Enter the desired future value: 10000.0\n",
      "Enter the annual interest rate: 0.05\n",
      "Enter the number of years the money will grow: 10\n",
      "You will need to deposit this amount: 6139.132535407592\n"
     ]
    }
   ],
   "source": [
    "# future value\n",
    "\n",
    "# get the desired future value\n",
    "future_value = float(input('Enter the desired future value: '))\n",
    "\n",
    "# get the annual interest rate\n",
    "rate = float(input('Enter the annual interest rate: '))\n",
    "\n",
    "# get the number of years that the money will appreciate\n",
    "years = int(input('Enter the number of years the money will grow: '))\n",
    "\n",
    "# calculate the amount needed to deposit\n",
    "present_value = future_value / (1.0 + rate)**years\n",
    "\n",
    "# display the amount needed to deposit\n",
    "print('You will need to deposit this amount:', present_value)"
   ]
  },
  {
   "cell_type": "code",
   "execution_count": 8,
   "metadata": {},
   "outputs": [
    {
     "name": "stdout",
     "output_type": "stream",
     "text": [
      "One Two Three "
     ]
    }
   ],
   "source": [
    "# suppressing the print function's ending newline\n",
    "\n",
    "print('One', end=' ')\n",
    "print('Two', end=' ')\n",
    "print('Three', end=' ')"
   ]
  },
  {
   "cell_type": "code",
   "execution_count": 9,
   "metadata": {},
   "outputs": [
    {
     "name": "stdout",
     "output_type": "stream",
     "text": [
      "The monthly payment is 416.6666666666667\n"
     ]
    }
   ],
   "source": [
    "# no formatting\n",
    "# number is displayed using no formatting\n",
    "\n",
    "amount_due = 5000.0\n",
    "monthly_payment = amount_due / 12.0\n",
    "print('The monthly payment is', monthly_payment)"
   ]
  },
  {
   "cell_type": "code",
   "execution_count": 11,
   "metadata": {},
   "outputs": [
    {
     "name": "stdout",
     "output_type": "stream",
     "text": [
      "The monthly payment is 416.67\n"
     ]
    }
   ],
   "source": [
    "# with formatting\n",
    "# ensures that number is rounded to two decimal places\n",
    "# with precision designator\n",
    "\n",
    "amount_due = 5000.0\n",
    "monthly_payment = amount_due / 12.0\n",
    "print('The monthly payment is', \n",
    "      format(monthly_payment, '.2f'))"
   ]
  },
  {
   "cell_type": "code",
   "execution_count": 12,
   "metadata": {},
   "outputs": [
    {
     "name": "stdout",
     "output_type": "stream",
     "text": [
      "12,345.678900\n"
     ]
    }
   ],
   "source": [
    "# inserting comma separators\n",
    "\n",
    "print(format(12345.6789, ',f'))"
   ]
  },
  {
   "cell_type": "code",
   "execution_count": 13,
   "metadata": {},
   "outputs": [
    {
     "name": "stdout",
     "output_type": "stream",
     "text": [
      "12,345.68\n"
     ]
    }
   ],
   "source": [
    "# inserting comma separators\n",
    "# and precisioon designator\n",
    "\n",
    "print(format(12345.6789, ',.2f'))"
   ]
  },
  {
   "cell_type": "code",
   "execution_count": 14,
   "metadata": {},
   "outputs": [
    {
     "name": "stdout",
     "output_type": "stream",
     "text": [
      "Your annual pay is $60,000.00\n"
     ]
    }
   ],
   "source": [
    "# displaying floating-point num as currency\n",
    "\n",
    "monthly_pay = 5000.0\n",
    "annual_pay = monthly_pay * 12\n",
    "print('Your annual pay is $',\n",
    "     format(annual_pay, ',.2f'),\n",
    "     sep='')"
   ]
  },
  {
   "cell_type": "code",
   "execution_count": 16,
   "metadata": {},
   "outputs": [
    {
     "name": "stdout",
     "output_type": "stream",
     "text": [
      "123,456\n"
     ]
    }
   ],
   "source": [
    "# comma separator for int\n",
    "\n",
    "print(format(123456, ',d'))"
   ]
  },
  {
   "cell_type": "code",
   "execution_count": null,
   "metadata": {},
   "outputs": [],
   "source": []
  }
 ],
 "metadata": {
  "kernelspec": {
   "display_name": "Python 3",
   "language": "python",
   "name": "python3"
  },
  "language_info": {
   "codemirror_mode": {
    "name": "ipython",
    "version": 3
   },
   "file_extension": ".py",
   "mimetype": "text/x-python",
   "name": "python",
   "nbconvert_exporter": "python",
   "pygments_lexer": "ipython3",
   "version": "3.7.1"
  }
 },
 "nbformat": 4,
 "nbformat_minor": 2
}
