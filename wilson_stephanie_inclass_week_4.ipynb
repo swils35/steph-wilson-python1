{
 "cells": [
  {
   "cell_type": "markdown",
   "metadata": {},
   "source": [
    "Stephanie Wilson\n",
    "<br/>2-27-19\n",
    "<br/>Python 1 - DAT-119 - Spring 2019\n",
    "<br/>In-class assignment week 4\n",
    "\n",
    "The program should:\n",
    "\n",
    "1. ask the user to input a year.\n",
    "2. then tell the user how many days are in the month of February of the given year (either 28 or 29).\n",
    "3. Calculate if the year is a leap year (has 29 days in Feb). \n",
    "    1. The year can be evenly divisible by 4.\n",
    "    2. if the year can be evenly divided by 100, it is NOT a leap year.\n",
    "    3. ...UNLESS it's evenly divisible by 400."
   ]
  },
  {
   "cell_type": "code",
   "execution_count": 66,
   "metadata": {},
   "outputs": [
    {
     "name": "stdout",
     "output_type": "stream",
     "text": [
      "Please enter a year: 2100\n",
      "The month of February in 2100 has/had 28 days.\n"
     ]
    }
   ],
   "source": [
    "year = int(input(\"Please enter a year: \"))\n",
    "\n",
    "if (year % 400 == 0) and (year % 100 == 0) and (year % 4 == 0):\n",
    "    print(\"The month of February in\", year, \"has/had 29 days.\")\n",
    "else:\n",
    "    print(\"The month of February in\", year, \"has/had 28 days.\")"
   ]
  },
  {
   "cell_type": "code",
   "execution_count": null,
   "metadata": {},
   "outputs": [],
   "source": []
  }
 ],
 "metadata": {
  "kernelspec": {
   "display_name": "Python 3",
   "language": "python",
   "name": "python3"
  },
  "language_info": {
   "codemirror_mode": {
    "name": "ipython",
    "version": 3
   },
   "file_extension": ".py",
   "mimetype": "text/x-python",
   "name": "python",
   "nbconvert_exporter": "python",
   "pygments_lexer": "ipython3",
   "version": "3.7.1"
  }
 },
 "nbformat": 4,
 "nbformat_minor": 2
}
