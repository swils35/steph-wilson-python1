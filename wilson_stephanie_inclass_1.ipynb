{
 "cells": [
  {
   "attachments": {},
   "cell_type": "markdown",
   "metadata": {},
   "source": [
    "Stephanie Wilson\n",
    "<br/>2-20-19\n",
    "<br/>Python 1 - DAT-119 - Spring 2019\n",
    "<br/>In-class assignment week 3\n",
    "\n",
    "The program should:\n",
    "\n",
    "1) Ask the user to input the number of seconds.\n",
    "\n",
    "2) Calculate the number of hours in those seconds. \n",
    "\n",
    "3) Calculate the number of minutes remaining.\n",
    "\n",
    "4) Calculate the number of seconds remaining.\n",
    "\n",
    "5) Display the results."
   ]
  },
  {
   "cell_type": "code",
   "execution_count": 1,
   "metadata": {},
   "outputs": [
    {
     "name": "stdout",
     "output_type": "stream",
     "text": [
      "Enter the number of seconds: 4600\n",
      "Here is the time in hours, minutes, and seconds:\n",
      "Hours: 1.0  Minutes: 16.0  Seconds: 40.0 "
     ]
    }
   ],
   "source": [
    "# get a number of seconds from user\n",
    "total_seconds = float(input('Enter the number of seconds: '))\n",
    "\n",
    "# get the number of hours\n",
    "hours = total_seconds // 3600\n",
    "\n",
    "# get the number of remaining minutes\n",
    "minutes = (total_seconds // 60) % 60\n",
    "\n",
    "# get the number of remaining seconds\n",
    "seconds = total_seconds % 60\n",
    "\n",
    "# display results\n",
    "print('Here is the time in hours, minutes, and seconds:')\n",
    "print('Hours:', hours, end=' ')\n",
    "print(' Minutes:', minutes, end=' ')\n",
    "print(' Seconds:', seconds, end=' ')"
   ]
  },
  {
   "cell_type": "code",
   "execution_count": null,
   "metadata": {},
   "outputs": [],
   "source": []
  }
 ],
 "metadata": {
  "kernelspec": {
   "display_name": "Python 3",
   "language": "python",
   "name": "python3"
  },
  "language_info": {
   "codemirror_mode": {
    "name": "ipython",
    "version": 3
   },
   "file_extension": ".py",
   "mimetype": "text/x-python",
   "name": "python",
   "nbconvert_exporter": "python",
   "pygments_lexer": "ipython3",
   "version": "3.7.1"
  }
 },
 "nbformat": 4,
 "nbformat_minor": 2
}
