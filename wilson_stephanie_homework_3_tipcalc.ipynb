{
 "cells": [
  {
   "cell_type": "markdown",
   "metadata": {},
   "source": [
    "Stephanie Wilson\n",
    "<br/>2-25-19\n",
    "<br/>Python 1 - DAT-119 - Spring 2019\n",
    "<br/>Homework assignment 3\n",
    "<br/>Tip Calculator\n",
    "\n",
    "The program should:\n",
    "\n",
    "1) Ask the user to input the price of the bill.\n",
    "\n",
    "2) Calculate a 10% tip and the total with the 10% tip included.\n",
    "\n",
    "3) Calculate a 15% tip and the total with the 15% tip included.\n",
    "\n",
    "4) Calculate a 20% tip and the total with the 20% tip included.\n",
    "\n",
    "5) Display the resultant totals."
   ]
  },
  {
   "cell_type": "code",
   "execution_count": 3,
   "metadata": {},
   "outputs": [
    {
     "name": "stdout",
     "output_type": "stream",
     "text": [
      "Enter the cost of the bill: 100\n",
      "The total bill with a 10% tip is: $ 110.00\n",
      "The total bill with a 15% tip is: $ 115.00\n",
      "The total bill with a 20% tip is: $ 120.00\n"
     ]
    }
   ],
   "source": [
    "# This program calculates the total cost of a bill\n",
    "# including a 10%, 15%, or 20% tip.\n",
    "\n",
    "# get the price of the bill\n",
    "bill = float(input(\"Enter the cost of the bill: \"))\n",
    "\n",
    "# calculate the 10% tip\n",
    "tip_ten = bill * .1\n",
    "# calculate the total bill including 10% tip\n",
    "total_ten = bill + tip_ten\n",
    "\n",
    "# calculate the 15% tip\n",
    "tip_fifteen = bill * .15\n",
    "# calculate the total bill including 15% tip\n",
    "total_fifteen = bill + tip_fifteen\n",
    "\n",
    "# calculate the 20% tip\n",
    "tip_twenty = bill * .2\n",
    "# calculate the total bill including 20% tip\n",
    "total_twenty = bill + tip_twenty\n",
    "\n",
    "# display totals\n",
    "print (\"The total bill with a 10% tip is: $\",format(total_ten, \".2f\"))\n",
    "print (\"The total bill with a 15% tip is: $\",format(total_fifteen, \".2f\"))\n",
    "print (\"The total bill with a 20% tip is: $\",format(total_twenty, \".2f\"))"
   ]
  },
  {
   "cell_type": "code",
   "execution_count": null,
   "metadata": {},
   "outputs": [],
   "source": []
  }
 ],
 "metadata": {
  "kernelspec": {
   "display_name": "Python 3",
   "language": "python",
   "name": "python3"
  },
  "language_info": {
   "codemirror_mode": {
    "name": "ipython",
    "version": 3
   },
   "file_extension": ".py",
   "mimetype": "text/x-python",
   "name": "python",
   "nbconvert_exporter": "python",
   "pygments_lexer": "ipython3",
   "version": "3.7.1"
  }
 },
 "nbformat": 4,
 "nbformat_minor": 2
}
