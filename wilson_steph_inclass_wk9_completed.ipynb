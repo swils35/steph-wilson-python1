{
 "cells": [
  {
   "cell_type": "markdown",
   "metadata": {},
   "source": [
    "Stephanie Wilson \n",
    "<br/>4-3-19 \n",
    "<br/>Python 1 - DAT-119 - Spring 2019 \n",
    "<br/>In-class assignment 9\n",
    "\n",
    "The program should:\n",
    "\n",
    "1. Read the data from the steps.txt file\n",
    "2. create an output file (step_averages.txt)\n",
    "3. In the output file, create a table with each month and how many steps were taken in that month. "
   ]
  },
  {
   "cell_type": "code",
   "execution_count": 12,
   "metadata": {},
   "outputs": [],
   "source": [
    "days = [31, 28, 31, 30, 31, 30, 31, 31, 30, 31, 30, 31]\n",
    "months = [\"January\", \"February\", \"March\", \"April\", \"May\", \"June\", \"July\",\n",
    "         \"August\", \"September\", \"October\", \"November\", \"December\"]\n",
    "averages = []\n",
    "\n",
    "with open(\"steps.txt\", \"r\") as steps_file_object:\n",
    "    \n",
    "    steps_in_a_year = steps_file_object.readlines()\n",
    "    \n",
    "with open(\"step_average.txt\", \"w\") as output_average:\n",
    "    \n",
    "    output_average.write(\"Month \\t Average Steps Taken\\n\")\n",
    "    output_average.write(\"----------------------------\\n\")\n",
    "\n",
    "    total = 0.0         \n",
    "    count = 0\n",
    "    end = 0\n",
    "\n",
    "    # for loop to iterate through days\n",
    "    for num in days: \n",
    "            \n",
    "        start = end\n",
    "        end = num + end\n",
    "        \n",
    "        # for loop to total steps & average         \n",
    "        for line in steps_in_a_year[start:end]:\n",
    "               \n",
    "            steps = float(line)  # convert a line from a string to a float \n",
    "            total += steps\n",
    "            \n",
    "        average = total / num\n",
    "            \n",
    "        averages.append(average)\n",
    "            \n",
    "        total = 0.0\n",
    "        \n",
    "    month_num = 0\n",
    "    \n",
    "    # for loop to print\n",
    "    for month in months:        \n",
    "        output_average.write(month + \"\\t\\t\" + format(averages[month_num], \".1f\") + \"\\n\")\n",
    "        month_num += 1"
   ]
  },
  {
   "cell_type": "code",
   "execution_count": null,
   "metadata": {},
   "outputs": [],
   "source": []
  }
 ],
 "metadata": {
  "kernelspec": {
   "display_name": "Python 3",
   "language": "python",
   "name": "python3"
  },
  "language_info": {
   "codemirror_mode": {
    "name": "ipython",
    "version": 3
   },
   "file_extension": ".py",
   "mimetype": "text/x-python",
   "name": "python",
   "nbconvert_exporter": "python",
   "pygments_lexer": "ipython3",
   "version": "3.7.1"
  }
 },
 "nbformat": 4,
 "nbformat_minor": 2
}
