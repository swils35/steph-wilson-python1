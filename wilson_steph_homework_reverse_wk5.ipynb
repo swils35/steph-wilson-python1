{
 "cells": [
  {
   "cell_type": "markdown",
   "metadata": {},
   "source": [
    "Stephanie Wilson \n",
    "<br/>3-6-19 \n",
    "<br/>Python 1 - DAT-119 - Spring 2019 \n",
    "<br/>Homework week 5\n",
    "\n",
    "The program should:\n",
    "\n",
    "1. Ask the user to input a string.\n",
    "2. Tell the user how many characters in the string and \n",
    "3. output the string in reverse."
   ]
  },
  {
   "cell_type": "code",
   "execution_count": 26,
   "metadata": {},
   "outputs": [
    {
     "name": "stdout",
     "output_type": "stream",
     "text": [
      "Please enter a word or phrase: Hello World!\n",
      "There are 12 characters in that word/ phrase.\n",
      "!\n",
      "d\n",
      "l\n",
      "r\n",
      "o\n",
      "W\n",
      " \n",
      "o\n",
      "l\n",
      "l\n",
      "e\n",
      "H\n"
     ]
    }
   ],
   "source": [
    "# initialize with empty string\n",
    "phrase = \"\"\n",
    "\n",
    "# ask for phrase\n",
    "phrase = input(\"Please enter a word or phrase: \")\n",
    "\n",
    "# output how many characters are in that phrase \n",
    "print(\"There are\", len(phrase), \"characters in that word/ phrase.\")\n",
    "\n",
    "# print the user input in reverse\n",
    "for letter in range(len(phrase), 0, -1):\n",
    "    print(phrase[letter - 1])"
   ]
  },
  {
   "cell_type": "markdown",
   "metadata": {},
   "source": []
  }
 ],
 "metadata": {
  "kernelspec": {
   "display_name": "Python 3",
   "language": "python",
   "name": "python3"
  },
  "language_info": {
   "codemirror_mode": {
    "name": "ipython",
    "version": 3
   },
   "file_extension": ".py",
   "mimetype": "text/x-python",
   "name": "python",
   "nbconvert_exporter": "python",
   "pygments_lexer": "ipython3",
   "version": "3.7.1"
  }
 },
 "nbformat": 4,
 "nbformat_minor": 2
}
