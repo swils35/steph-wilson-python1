{
 "cells": [
  {
   "cell_type": "markdown",
   "metadata": {},
   "source": [
    "Stephanie Wilson \n",
    "<br/>3-1-19 \n",
    "<br/>Python 1 - DAT-119 - Spring 2019 \n",
    "<br/>Homework assignment 4\n",
    "\n",
    "The program should:\n",
    "\n",
    "1. Ask the user if any of their friends are vegetarian, vegan, or gluten-free.\n",
    "2. Determine which restaurants the group is able to go to based on answers.\n",
    "3. Print the list of available restaurants. \n",
    "    1. If all three answers are \"no,\" then it will only list Joe's.\n",
    "\n",
    "Joe’s Gourmet Burgers - Vegetarian: No, Vegan: No, Gluten-free: No\n",
    "<br/>Main Street Pizza Company - Vegetarian: Yes, Vegan: No, Gluten-free: Yes\n",
    "<br/>Corner Cafe - Vegetarian: Yes, Vegan: Yes, Gluten-free: Yes\n",
    "<br/>Mama’s Fine Italian - Vegetarian: Yes, Vegan: No, Gluten-free: No\n",
    "<br/>The Chef’s Kitchen - Vegetarian: Yes, Vegan: Yes, Gluten-free: Yes"
   ]
  },
  {
   "cell_type": "code",
   "execution_count": 13,
   "metadata": {},
   "outputs": [
    {
     "name": "stdout",
     "output_type": "stream",
     "text": [
      "Is anyone in your party vegetarian? No\n",
      "Is anyone in your party vegan? No\n",
      "Is anyone in your party gluten-free? Yes\n",
      "Here's your restaurant list:\n",
      "Main Street Pizza Company\n",
      "Corner Cafe\n",
      "The Chef's Kitchen\n"
     ]
    }
   ],
   "source": [
    "# Ask the user if any of their friends are vegetarian/ vegan/ or gluten-free. \n",
    "tartar = input(\"Is anyone in your party vegetarian? \")\n",
    "veg = input(\"Is anyone in your party vegan? \")\n",
    "gluteus_minimus = input(\"Is anyone in your party gluten-free? \")\n",
    "\n",
    "print(\"Here's your restaurant list:\")\n",
    "\n",
    "# Determine what to print based on responses\n",
    "\n",
    "# if the restaurant offers all three\n",
    "if tartar == (\"Yes\") and veg == (\"Yes\") and gluteus_minimus == (\"Yes\"):\n",
    "    print(\"Corner Cafe\")\n",
    "    print(\"The Chef's Kitchen\")\n",
    "\n",
    "# if the restaurant AT LEAST offers vegetarian and vegan options\n",
    "elif tartar == (\"Yes\") and veg == (\"Yes\") and gluteus_minimus == (\"No\"):\n",
    "    print(\"Corner Cafe\")\n",
    "    print(\"The Chef's Kitchen\")\n",
    "\n",
    "# if the restaurant AT LEAST offers vegetarian options\n",
    "elif tartar == (\"Yes\") and veg == (\"No\") and gluteus_minimus == (\"No\"):\n",
    "    print(\"Main Street Pizza Company\")\n",
    "    print(\"Corner Cafe\")\n",
    "    print(\"Mama's Fine Italian\")\n",
    "    print(\"The Chef's Kitchen\")\n",
    "    \n",
    "# if the restaurant AT LEAST offers vegetarian and gluten-free options\n",
    "elif tartar == (\"Yes\") and veg == (\"No\") and gluteus_minimus == (\"Yes\"):\n",
    "    print(\"Main Street Pizza Company\")\n",
    "    print(\"Corner Cafe\")\n",
    "    print(\"The Chef's Kitchen\")\n",
    "\n",
    "# if the restaurant AT LEAST offers vegan and gluten-free options\n",
    "elif tartar == (\"No\") and veg == (\"Yes\") and gluteus_minimus == (\"Yes\"):\n",
    "    print(\"Corner Cafe\")\n",
    "    print(\"The Chef's Kitchen\")\n",
    "\n",
    "# if the restaurant AT LEAST offers vegan options\n",
    "elif tartar == (\"No\") and veg == (\"Yes\") and gluteus_minimus == (\"No\"):\n",
    "    print(\"Corner Cafe\")\n",
    "    print(\"The Chef's Kitchen\")\n",
    "    \n",
    "# if the restaurant AT LEAST offers gluten-free options\n",
    "elif tartar == (\"No\") and veg == (\"No\") and gluteus_minimus == (\"Yes\"):\n",
    "    print(\"Main Street Pizza Company\")\n",
    "    print(\"Corner Cafe\")\n",
    "    print(\"The Chef's Kitchen\")\n",
    "    \n",
    "else:\n",
    "    print(\"Joe's Gourmet Burgers\")"
   ]
  },
  {
   "cell_type": "code",
   "execution_count": null,
   "metadata": {},
   "outputs": [],
   "source": []
  }
 ],
 "metadata": {
  "kernelspec": {
   "display_name": "Python 3",
   "language": "python",
   "name": "python3"
  },
  "language_info": {
   "codemirror_mode": {
    "name": "ipython",
    "version": 3
   },
   "file_extension": ".py",
   "mimetype": "text/x-python",
   "name": "python",
   "nbconvert_exporter": "python",
   "pygments_lexer": "ipython3",
   "version": "3.7.1"
  }
 },
 "nbformat": 4,
 "nbformat_minor": 2
}
