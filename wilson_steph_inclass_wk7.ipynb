{
 "cells": [
  {
   "cell_type": "markdown",
   "metadata": {},
   "source": [
    "Stephanie Wilson \n",
    "<br/>3-25-19 \n",
    "<br/>Python 1 - DAT-119 - Spring 2019 \n",
    "<br/>In-class week 7\n",
    "\n",
    "This program should:\n",
    "1. Generate a seven-digit list of random numbers(0 - 9).\n",
    "2. Print out the list (appearing as one long number) as a single lottery number.\n",
    "\n",
    "main:\n",
    "\n",
    "    call the winner function.\n",
    "    print \"Today's lottery number is: \" then the number (list with no spaces/ commas/ brackets).\n",
    "    \n",
    "winner:\n",
    "\n",
    "    generate a list of 7 numbers all between 0 - 9."
   ]
  },
  {
   "cell_type": "code",
   "execution_count": 20,
   "metadata": {},
   "outputs": [
    {
     "name": "stdout",
     "output_type": "stream",
     "text": [
      "Today's lottery number is: \n",
      "9777372"
     ]
    }
   ],
   "source": [
    "import random\n",
    "\n",
    "def main():\n",
    "    lucky = winner()\n",
    "    \n",
    "    print(\"Today's lottery number is: \")\n",
    "    \n",
    "    for number in lucky:        \n",
    "        print(number, end=\"\")\n",
    "    \n",
    "def winner():\n",
    "    lotto = []\n",
    "    for number in range(0, 7):\n",
    "        lotto.append(random.randint(0, 9))\n",
    "    return lotto\n",
    "\n",
    "main()"
   ]
  },
  {
   "cell_type": "code",
   "execution_count": null,
   "metadata": {},
   "outputs": [],
   "source": []
  }
 ],
 "metadata": {
  "kernelspec": {
   "display_name": "Python 3",
   "language": "python",
   "name": "python3"
  },
  "language_info": {
   "codemirror_mode": {
    "name": "ipython",
    "version": 3
   },
   "file_extension": ".py",
   "mimetype": "text/x-python",
   "name": "python",
   "nbconvert_exporter": "python",
   "pygments_lexer": "ipython3",
   "version": "3.7.1"
  }
 },
 "nbformat": 4,
 "nbformat_minor": 2
}
