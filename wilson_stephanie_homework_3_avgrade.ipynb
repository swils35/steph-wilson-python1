{
 "cells": [
  {
   "cell_type": "markdown",
   "metadata": {},
   "source": [
    "Stephanie Wilson\n",
    "<br/>2-25-19\n",
    "<br/>Python 1 - DAT-119 - Spring 2019\n",
    "<br/>Homework assignment 3\n",
    "<br/>Grade averages\n",
    "\n",
    "The program should:\n",
    "\n",
    "1) Ask the user to input the percentage grade for test 1.\n",
    "\n",
    "2) Ask the user to input the percentage grade for test 2. \n",
    "\n",
    "3) Ask the user to input the percentage grade for test 3.\n",
    "\n",
    "4) Calculate the average of the three test scores.\n",
    "\n",
    "5) Display the resultant average."
   ]
  },
  {
   "cell_type": "code",
   "execution_count": 3,
   "metadata": {},
   "outputs": [
    {
     "name": "stdout",
     "output_type": "stream",
     "text": [
      "Enter the score for test 1: 80\n",
      "Enter the score for test 2: 98\n",
      "Enter the score for test 3: 93\n",
      "The average score is 90.33\n"
     ]
    }
   ],
   "source": [
    "# This program gets three test scores then calculates\n",
    "# and displays their average.\n",
    "\n",
    "# Get the three test scores\n",
    "test1 = float(input(\"Enter the score for test 1: \"))\n",
    "test2 = float(input(\"Enter the score for test 2: \"))\n",
    "test3 = float(input(\"Enter the score for test 3: \"))\n",
    "\n",
    "# calculate the average test score.\n",
    "average = (test1 + test2 + test3) / 3\n",
    "\n",
    "# print the average\n",
    "print(\"The average score is\",format(average, \".2f\"), sep=\" \")"
   ]
  }
 ],
 "metadata": {
  "kernelspec": {
   "display_name": "Python 3",
   "language": "python",
   "name": "python3"
  },
  "language_info": {
   "codemirror_mode": {
    "name": "ipython",
    "version": 3
   },
   "file_extension": ".py",
   "mimetype": "text/x-python",
   "name": "python",
   "nbconvert_exporter": "python",
   "pygments_lexer": "ipython3",
   "version": "3.7.1"
  }
 },
 "nbformat": 4,
 "nbformat_minor": 2
}
